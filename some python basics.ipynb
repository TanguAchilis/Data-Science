{
 "cells": [
  {
   "cell_type": "markdown",
   "id": "7f59c7e7",
   "metadata": {},
   "source": [
    "## built-in functions \n",
    "min(), max(), abs(), sum(), pow(base, power), len()\n",
    "round(x,y) returns the float fo its argumens(x), rounded to a specified number of digits(y) after the decimal point"
   ]
  },
  {
   "cell_type": "markdown",
   "id": "21e9da31",
   "metadata": {},
   "source": [
    "## Python List"
   ]
  },
  {
   "cell_type": "code",
   "execution_count": 1,
   "id": "b1fcd65c",
   "metadata": {},
   "outputs": [
    {
     "data": {
      "text/plain": [
       "['John', 'Leila', 'Gregory', 'Cate']"
      ]
     },
     "execution_count": 1,
     "metadata": {},
     "output_type": "execute_result"
    }
   ],
   "source": [
    "participants = ['John', 'Leila', 'Gregory', 'Cate']\n",
    "participants"
   ]
  },
  {
   "cell_type": "markdown",
   "id": "cbc5de20",
   "metadata": {},
   "source": [
    "we can use del participants[2] to delete the element at index 2"
   ]
  },
  {
   "cell_type": "code",
   "execution_count": 2,
   "id": "24bcc664",
   "metadata": {},
   "outputs": [
    {
     "data": {
      "text/plain": [
       "['John', 'Leila', 'Cate']"
      ]
     },
     "execution_count": 2,
     "metadata": {},
     "output_type": "execute_result"
    }
   ],
   "source": [
    "del participants[2]\n",
    "participants"
   ]
  },
  {
   "cell_type": "code",
   "execution_count": 3,
   "id": "71bf8931",
   "metadata": {},
   "outputs": [
    {
     "data": {
      "text/plain": [
       "2"
      ]
     },
     "execution_count": 3,
     "metadata": {},
     "output_type": "execute_result"
    }
   ],
   "source": [
    "participants.index('Cate')"
   ]
  },
  {
   "cell_type": "code",
   "execution_count": 21,
   "id": "71ca1c13",
   "metadata": {},
   "outputs": [
    {
     "name": "stdout",
     "output_type": "stream",
     "text": [
      "0\n",
      "1\n",
      "2\n",
      "3\n",
      "4\n",
      "5\n",
      "6\n",
      "7\n",
      "8\n",
      "9\n",
      "0 1 2 3 4 5 6 7 8 9 "
     ]
    }
   ],
   "source": [
    "test = [n for n in range(10)]\n",
    "# printing values on different lines\n",
    "for i in test:\n",
    "    print(i)\n",
    "#printing values on the same line\n",
    "for i in test:\n",
    "    print(i, end=\" \")"
   ]
  },
  {
   "cell_type": "code",
   "execution_count": 4,
   "id": "a29a5cf3",
   "metadata": {},
   "outputs": [
    {
     "name": "stdout",
     "output_type": "stream",
     "text": [
      "['apple', 'banana', 'cherry']\n"
     ]
    }
   ],
   "source": [
    "fruits = ['apple', 'banana']\n",
    "fruits.append('cherry')\n",
    "print(fruits)  # Output: ['apple', 'banana', 'cherry']"
   ]
  },
  {
   "cell_type": "code",
   "execution_count": 5,
   "id": "4aff17c6",
   "metadata": {},
   "outputs": [
    {
     "name": "stdout",
     "output_type": "stream",
     "text": [
      "[1, 2, 3, 4]\n"
     ]
    }
   ],
   "source": [
    "numbers = [1, 2]\n",
    "numbers.extend([3, 4])\n",
    "print(numbers)  # Output: [1, 2, 3, 4]"
   ]
  },
  {
   "cell_type": "code",
   "execution_count": 6,
   "id": "50b69bf4",
   "metadata": {},
   "outputs": [
    {
     "name": "stdout",
     "output_type": "stream",
     "text": [
      "['Alice', 'Charlie', 'Bob']\n"
     ]
    }
   ],
   "source": [
    "names = ['Alice', 'Bob']\n",
    "names.insert(1, 'Charlie')\n",
    "print(names)  # Output: ['Alice', 'Charlie', 'Bob']"
   ]
  },
  {
   "cell_type": "code",
   "execution_count": 7,
   "id": "5caba985",
   "metadata": {},
   "outputs": [
    {
     "name": "stdout",
     "output_type": "stream",
     "text": [
      "['dog', 'bird', 'cat']\n"
     ]
    }
   ],
   "source": [
    "pets = ['dog', 'cat', 'bird', 'cat']\n",
    "pets.remove('cat')\n",
    "print(pets)  # Output: ['dog', 'bird', 'cat']"
   ]
  },
  {
   "cell_type": "code",
   "execution_count": 8,
   "id": "1e33f0c0",
   "metadata": {},
   "outputs": [
    {
     "name": "stdout",
     "output_type": "stream",
     "text": [
      "blue\n",
      "['red', 'green']\n"
     ]
    }
   ],
   "source": [
    "colors = ['red', 'green', 'blue']\n",
    "popped_color = colors.pop()\n",
    "print(popped_color)  # Output: 'blue'\n",
    "print(colors)        # Output: ['red', 'green']"
   ]
  },
  {
   "cell_type": "code",
   "execution_count": 9,
   "id": "acb0cb71",
   "metadata": {},
   "outputs": [
    {
     "name": "stdout",
     "output_type": "stream",
     "text": [
      "[]\n"
     ]
    }
   ],
   "source": [
    "items = [1, 2, 3]\n",
    "items.clear()\n",
    "print(items)  # Output: []"
   ]
  },
  {
   "cell_type": "code",
   "execution_count": 10,
   "id": "abc670ea",
   "metadata": {},
   "outputs": [
    {
     "name": "stdout",
     "output_type": "stream",
     "text": [
      "3\n"
     ]
    }
   ],
   "source": [
    "numbers = [1, 2, 3, 2, 2, 4]\n",
    "count_of_2 = numbers.count(2)\n",
    "print(count_of_2)  # Output: 3\n"
   ]
  },
  {
   "cell_type": "code",
   "execution_count": 13,
   "id": "974d9ae5",
   "metadata": {},
   "outputs": [
    {
     "name": "stdout",
     "output_type": "stream",
     "text": [
      "[1, 1, 3, 4, 5]\n",
      "[5, 4, 3, 1, 1]\n"
     ]
    }
   ],
   "source": [
    "numbers = [3, 1, 4, 1, 5]\n",
    "numbers.sort()\n",
    "print(numbers)  # Output: [1, 1, 3, 4, 5]\n",
    "numbers.sort(reverse=True)\n",
    "print(numbers)  # Output: [5, 4, 3, 1, 1]\n"
   ]
  },
  {
   "cell_type": "code",
   "execution_count": 14,
   "id": "79fe49b6",
   "metadata": {},
   "outputs": [
    {
     "name": "stdout",
     "output_type": "stream",
     "text": [
      "[9, 5, 4, 3, 1, 1]\n"
     ]
    }
   ],
   "source": [
    "numbers = [3, 1, 4, 1, 5, 9]\n",
    "sorted_numbers = sorted(numbers, reverse=True)\n",
    "print(sorted_numbers)  # Output: [9, 5, 4, 3, 1, 1]"
   ]
  },
  {
   "cell_type": "code",
   "execution_count": 12,
   "id": "d03e5b61",
   "metadata": {},
   "outputs": [
    {
     "name": "stdout",
     "output_type": "stream",
     "text": [
      "[3, 2, 1]\n"
     ]
    }
   ],
   "source": [
    "numbers = [1, 2, 3]\n",
    "numbers.reverse()\n",
    "print(numbers)  # Output: [3, 2, 1]"
   ]
  },
  {
   "cell_type": "markdown",
   "id": "57be1525",
   "metadata": {},
   "source": [
    "## Python dictionaries"
   ]
  },
  {
   "cell_type": "code",
   "execution_count": 15,
   "id": "828aed30",
   "metadata": {},
   "outputs": [
    {
     "name": "stdout",
     "output_type": "stream",
     "text": [
      "[('apple', 1), ('banana', 3), ('orange', 2)]\n"
     ]
    }
   ],
   "source": [
    "# Sorting by keys\n",
    "my_dict = {'banana': 3, 'apple': 1, 'orange': 2}\n",
    "sorted_by_keys = sorted(my_dict.items())\n",
    "print(sorted_by_keys)  # Output: [('apple', 1), ('banana', 3), ('orange', 2)]\n"
   ]
  },
  {
   "cell_type": "code",
   "execution_count": 16,
   "id": "74c3b1d4",
   "metadata": {},
   "outputs": [
    {
     "name": "stdout",
     "output_type": "stream",
     "text": [
      "[('apple', 1), ('orange', 2), ('banana', 3)]\n"
     ]
    }
   ],
   "source": [
    "# sorting by Value\n",
    "my_dict = {'banana': 3, 'apple': 1, 'orange': 2}\n",
    "sorted_by_values = sorted(my_dict.items(), key=lambda x: x[1])\n",
    "print(sorted_by_values)  # Output: [('apple', 1), ('orange', 2), ('banana', 3)]"
   ]
  },
  {
   "cell_type": "code",
   "execution_count": 18,
   "id": "e0b0e77c",
   "metadata": {},
   "outputs": [
    {
     "data": {
      "text/plain": [
       "3"
      ]
     },
     "execution_count": 18,
     "metadata": {},
     "output_type": "execute_result"
    }
   ],
   "source": [
    "my_dict.get('banana')\n",
    "#NB: if what u r looking for doesn't exist it will return None"
   ]
  },
  {
   "cell_type": "code",
   "execution_count": 19,
   "id": "ca8dbd06",
   "metadata": {},
   "outputs": [
    {
     "name": "stdout",
     "output_type": "stream",
     "text": [
      "[('orange', 2), ('banana', 3), ('apple', 1)]\n",
      "[('banana', 3), ('orange', 2), ('apple', 1)]\n"
     ]
    }
   ],
   "source": [
    "my_dict = {'banana': 3, 'apple': 1, 'orange': 2}\n",
    "\n",
    "# Sort by keys in reverse order\n",
    "sorted_by_keys_reverse = sorted(my_dict.items(), reverse=True)\n",
    "print(sorted_by_keys_reverse)  # Output: [('orange', 2), ('banana', 3), ('apple', 1)]\n",
    "\n",
    "# Sort by values in reverse order\n",
    "sorted_by_values_reverse = sorted(my_dict.items(), key=lambda x: x[1], reverse=True)\n",
    "print(sorted_by_values_reverse)  # Output: [('banana', 3), ('orange', 2), ('apple', 1)]\n"
   ]
  },
  {
   "cell_type": "markdown",
   "id": "db3c03be",
   "metadata": {},
   "source": [
    "## Lambda functions\n",
    "Lambda functions in Python are small, anonymous functions defined using the keyword lambda. Lambda functions can have any number of arguments but only one expression. The expression is evaluated and returned. Lambda functions are often used for short, simple functions that are convenient to define at the point where they are called, typically passed as arguments to higher-order functions (functions that take other functions as arguments).\n",
    "The syntax is \n",
    "###### lambda arguments: expression\n"
   ]
  },
  {
   "cell_type": "code",
   "execution_count": 22,
   "id": "55298a0a",
   "metadata": {},
   "outputs": [
    {
     "name": "stdout",
     "output_type": "stream",
     "text": [
      "15\n"
     ]
    }
   ],
   "source": [
    "add_ten = lambda x: x + 10\n",
    "print(add_ten(5))\n",
    "# Output: 15\n"
   ]
  },
  {
   "cell_type": "code",
   "execution_count": 23,
   "id": "da110406",
   "metadata": {},
   "outputs": [
    {
     "name": "stdout",
     "output_type": "stream",
     "text": [
      "6\n"
     ]
    }
   ],
   "source": [
    "multiply = lambda x, y: x * y\n",
    "print(multiply(2, 3))\n",
    "# Output: 6\n"
   ]
  },
  {
   "cell_type": "code",
   "execution_count": 25,
   "id": "1a4ddf26",
   "metadata": {},
   "outputs": [
    {
     "data": {
      "text/plain": [
       "[1, 4, 9, 16]"
      ]
     },
     "execution_count": 25,
     "metadata": {},
     "output_type": "execute_result"
    }
   ],
   "source": [
    "numbers = [1, 2, 3, 4]\n",
    "sq = map(lambda x:x**2, numbers)\n",
    "list(sq)"
   ]
  },
  {
   "cell_type": "code",
   "execution_count": 30,
   "id": "765bed9d",
   "metadata": {},
   "outputs": [
    {
     "name": "stdout",
     "output_type": "stream",
     "text": [
      "[2, 4, 6]\n"
     ]
    }
   ],
   "source": [
    "# To print just even numbers from a list of numbers\n",
    "numbers = [1, 2, 3, 4, 5, 6]\n",
    "even_numbers = filter(lambda x: x % 2 == 0, numbers)\n",
    "print(list(even_numbers))"
   ]
  },
  {
   "cell_type": "code",
   "execution_count": 31,
   "id": "fbc8d50c",
   "metadata": {},
   "outputs": [
    {
     "name": "stdout",
     "output_type": "stream",
     "text": [
      "[False, True, False, True, False, True]\n"
     ]
    }
   ],
   "source": [
    "numbers = [1, 2, 3, 4, 5, 6]\n",
    "even_numbers = map(lambda x: x % 2 == 0, numbers)\n",
    "print(list(even_numbers))"
   ]
  },
  {
   "cell_type": "code",
   "execution_count": 32,
   "id": "5bd86b55",
   "metadata": {},
   "outputs": [
    {
     "name": "stdout",
     "output_type": "stream",
     "text": [
      "[{'name': 'Mike', 'age': 25}, {'name': 'Diane', 'age': 35}, {'name': 'John', 'age': 45}]\n"
     ]
    }
   ],
   "source": [
    "people = [\n",
    "    {\"name\": \"John\", \"age\": 45},\n",
    "    {\"name\": \"Diane\", \"age\": 35},\n",
    "    {\"name\": \"Mike\", \"age\": 25}\n",
    "]\n",
    "# Sort by age\n",
    "sorted_people = sorted(people, key=lambda person: person[\"age\"])\n",
    "\n",
    "print(sorted_people)\n",
    "# Output: [{'name': 'Mike', 'age': 25}, {'name': 'Diane', 'age': 35}, {'name': 'John', 'age': 45}]\n"
   ]
  },
  {
   "cell_type": "code",
   "execution_count": 33,
   "id": "0d779d8e",
   "metadata": {},
   "outputs": [
    {
     "name": "stdout",
     "output_type": "stream",
     "text": [
      "[9, 5, 4, 3, 2, 1, 1]\n"
     ]
    }
   ],
   "source": [
    "numbers = [3, 1, 4, 1, 5, 9, 2]\n",
    "# Sort in descending order\n",
    "sorted_numbers = sorted(numbers, key=lambda x: x, reverse=True)\n",
    "\n",
    "print(sorted_numbers)\n",
    "# Output: [9, 5, 4, 3, 2, 1, 1]\n"
   ]
  },
  {
   "cell_type": "code",
   "execution_count": 34,
   "id": "d0ee9a6b",
   "metadata": {},
   "outputs": [
    {
     "name": "stdout",
     "output_type": "stream",
     "text": [
      "['pie', 'book', 'banana', 'Washington']\n"
     ]
    }
   ],
   "source": [
    "words = ['banana', 'pie', 'Washington', 'book']\n",
    "sorted_words = sorted(words, key=lambda word: len(word))\n",
    "\n",
    "print(sorted_words)\n",
    "# Output: ['pie', 'book', 'banana', 'Washington']\n"
   ]
  },
  {
   "cell_type": "markdown",
   "id": "66a6455f",
   "metadata": {},
   "source": [
    "## Linear Regression"
   ]
  },
  {
   "cell_type": "code",
   "execution_count": 36,
   "id": "ad88f2b2",
   "metadata": {},
   "outputs": [],
   "source": [
    "import numpy as np\n",
    "import pandas as pd\n",
    "import scipy\n",
    "import statsmodels.api as sm\n",
    "import matplotlib as plt\n",
    "import seaborn as sns\n",
    "import sklearn"
   ]
  },
  {
   "cell_type": "markdown",
   "id": "424a0c88",
   "metadata": {},
   "source": [
    "## Numpy\n",
    "A third party package allowing us to work with multidimensional arrays. they represent a powerful way to organise and process data\n",
    "## Pandas\n",
    "it is a package that enhances numpy even further, allows us to organize data in a tabular form and to attach descriptive labels to the rows and columns of the table. it is endowed with a broad gamma of tools facilitating our work with various data formats and missing data. if you want to do datascience with python, this is an essential package you will need\n",
    "## Matplotlib\n",
    "It is a 2D plotting libary specially designed for visualization of numpy computations, it also contains a large set of tools that can help you adjust the graph to your liking\n",
    "## Scipy\n",
    "numpy, pandas, matplotlib are part of the larger scipy set of libraries. It is a python ecosystem, containing alot of tools for scientific calculations suitable for the fields of mathematics, machine learning, engineering and more\n",
    "## Seaborn\n",
    "It is a python visualisation library based on matplotlib. it provides high level interface for drawing attractive statistical graphics\n",
    "## Statsmodels(SM)\n",
    "a package built on top of numpy and scipy, which integrates with pandas. SM provides very good summaries\n"
   ]
  },
  {
   "cell_type": "code",
   "execution_count": null,
   "id": "2ea6b951",
   "metadata": {},
   "outputs": [],
   "source": []
  }
 ],
 "metadata": {
  "kernelspec": {
   "display_name": "Python (tf-gpu)",
   "language": "python",
   "name": "tf-gpu"
  },
  "language_info": {
   "codemirror_mode": {
    "name": "ipython",
    "version": 3
   },
   "file_extension": ".py",
   "mimetype": "text/x-python",
   "name": "python",
   "nbconvert_exporter": "python",
   "pygments_lexer": "ipython3",
   "version": "3.9.16"
  }
 },
 "nbformat": 4,
 "nbformat_minor": 5
}
