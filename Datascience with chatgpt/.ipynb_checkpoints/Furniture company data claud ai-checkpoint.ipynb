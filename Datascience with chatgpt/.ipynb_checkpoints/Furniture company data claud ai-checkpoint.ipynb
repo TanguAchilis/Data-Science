{
 "cells": [
  {
   "cell_type": "markdown",
   "id": "81a284b6",
   "metadata": {},
   "source": [
    "# Analysis of company furniture data"
   ]
  },
  {
   "cell_type": "markdown",
   "id": "67677a64",
   "metadata": {},
   "source": [
    "We aim to get \n",
    "1. Top products\n",
    "2. Top clients\n",
    "3. Overall revenue performance"
   ]
  },
  {
   "cell_type": "code",
   "execution_count": null,
   "id": "f741b399",
   "metadata": {},
   "outputs": [],
   "source": []
  }
 ],
 "metadata": {
  "kernelspec": {
   "display_name": "Python (tf-gpu)",
   "language": "python",
   "name": "tf-gpu"
  },
  "language_info": {
   "codemirror_mode": {
    "name": "ipython",
    "version": 3
   },
   "file_extension": ".py",
   "mimetype": "text/x-python",
   "name": "python",
   "nbconvert_exporter": "python",
   "pygments_lexer": "ipython3",
   "version": "3.9.16"
  }
 },
 "nbformat": 4,
 "nbformat_minor": 5
}
