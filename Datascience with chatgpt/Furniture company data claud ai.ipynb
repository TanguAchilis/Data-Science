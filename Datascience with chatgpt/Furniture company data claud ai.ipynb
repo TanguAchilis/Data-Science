{
 "cells": [
  {
   "cell_type": "markdown",
   "id": "81a284b6",
   "metadata": {},
   "source": [
    "# Analysis of company furniture data"
   ]
  },
  {
   "cell_type": "markdown",
   "id": "67677a64",
   "metadata": {},
   "source": [
    "We aim to get \n",
    "1. Top products\n",
    "2. Top clients\n",
    "3. Overall revenue performance"
   ]
  },
  {
   "cell_type": "code",
   "execution_count": 1,
   "id": "f741b399",
   "metadata": {},
   "outputs": [],
   "source": [
    "import pandas as pd\n",
    "\n",
    "# Load the datasets\n",
    "customers = pd.read_csv('datasets/data1/customers.csv')\n",
    "products = pd.read_csv('datasets/data1/products.csv')\n",
    "ratings = pd.read_csv('datasets/data1/ratings.csv')\n",
    "orders = pd.read_csv('datasets/data1/orders.csv')"
   ]
  },
  {
   "cell_type": "code",
   "execution_count": 2,
   "id": "5681bd16",
   "metadata": {},
   "outputs": [],
   "source": [
    "# Merge the datasets\n",
    "merged_data = orders.merge(customers, left_on='customer_id', right_on='customer_id') \\\n",
    "                    .merge(products, left_on='product_id', right_on='product_id') \\\n",
    "                    .merge(ratings, on=['customer_id', 'product_id'], how='left')\n"
   ]
  },
  {
   "cell_type": "code",
   "execution_count": 3,
   "id": "5d7eb330",
   "metadata": {},
   "outputs": [],
   "source": [
    "# Calculate revenue for each product\n",
    "merged_data['revenue'] = merged_data['price'] * merged_data['quantity']\n"
   ]
  },
  {
   "cell_type": "code",
   "execution_count": 4,
   "id": "851e7626",
   "metadata": {},
   "outputs": [
    {
     "name": "stdout",
     "output_type": "stream",
     "text": [
      "Top performing products in terms of revenue:\n",
      "           product_name  revenue\n",
      "5   Brimnes Bed Storage    59521\n",
      "41     Småstad Wardrobe    51688\n",
      "37         Råskog Stool    50445\n",
      "6         Docksta Table    46386\n",
      "27         Nockeby Sofa    45646\n"
     ]
    }
   ],
   "source": [
    "# Top performing products in terms of revenue\n",
    "top_products_revenue = merged_data.groupby('product_name')['revenue'].sum().reset_index() \\\n",
    "                                  .sort_values('revenue', ascending=False)\n",
    "print(\"Top performing products in terms of revenue:\")\n",
    "print(top_products_revenue.head())"
   ]
  },
  {
   "cell_type": "code",
   "execution_count": 5,
   "id": "7ce5f91a",
   "metadata": {},
   "outputs": [
    {
     "name": "stdout",
     "output_type": "stream",
     "text": [
      "\n",
      "Top performing products in terms of units sold:\n",
      "               product_name  quantity\n",
      "22    Mackapar Shoe Storage        80\n",
      "5       Brimnes Bed Storage        77\n",
      "31           Poäng Armchair        63\n",
      "45   Söderhamn Sofa Section        63\n",
      "1   Bekant Conference Table        62\n"
     ]
    }
   ],
   "source": [
    "# Top performing products in terms of units sold\n",
    "top_products_units = merged_data.groupby('product_name')['quantity'].sum().reset_index() \\\n",
    "                                .sort_values('quantity', ascending=False)\n",
    "print(\"\\nTop performing products in terms of units sold:\")\n",
    "print(top_products_units.head())"
   ]
  },
  {
   "cell_type": "code",
   "execution_count": 8,
   "id": "1b88d5df",
   "metadata": {},
   "outputs": [],
   "source": [
    "merged_data['order_date'] = pd.to_datetime(merged_data['order_date'])"
   ]
  },
  {
   "cell_type": "code",
   "execution_count": 11,
   "id": "9cc45105",
   "metadata": {},
   "outputs": [
    {
     "name": "stdout",
     "output_type": "stream",
     "text": [
      "\n",
      "Top clients for the last month:\n",
      "           name  revenue\n",
      "0    Customer_1    27081\n",
      "39  Customer_44    26529\n",
      "34   Customer_4    25717\n",
      "22  Customer_29    24997\n",
      "48  Customer_52    24055\n"
     ]
    }
   ],
   "source": [
    "# Top clients for the last month\n",
    "last_month = pd.to_datetime('today') - pd.DateOffset(months=10) # previous 10 months\n",
    "top_clients_last_month = merged_data[merged_data['order_date'] > last_month] \\\n",
    "                                     .groupby('name')['revenue'].sum().reset_index() \\\n",
    "                                     .sort_values('revenue', ascending=False)\n",
    "print(\"\\nTop clients for the last month:\")\n",
    "print(top_clients_last_month.head())"
   ]
  },
  {
   "cell_type": "code",
   "execution_count": 12,
   "id": "dea177cd",
   "metadata": {},
   "outputs": [
    {
     "data": {
      "text/html": [
       "<div>\n",
       "<style scoped>\n",
       "    .dataframe tbody tr th:only-of-type {\n",
       "        vertical-align: middle;\n",
       "    }\n",
       "\n",
       "    .dataframe tbody tr th {\n",
       "        vertical-align: top;\n",
       "    }\n",
       "\n",
       "    .dataframe thead th {\n",
       "        text-align: right;\n",
       "    }\n",
       "</style>\n",
       "<table border=\"1\" class=\"dataframe\">\n",
       "  <thead>\n",
       "    <tr style=\"text-align: right;\">\n",
       "      <th></th>\n",
       "      <th>customer_id</th>\n",
       "      <th>order_count</th>\n",
       "      <th>total_revenue</th>\n",
       "    </tr>\n",
       "  </thead>\n",
       "  <tbody>\n",
       "    <tr>\n",
       "      <th>0</th>\n",
       "      <td>1</td>\n",
       "      <td>18</td>\n",
       "      <td>27081</td>\n",
       "    </tr>\n",
       "    <tr>\n",
       "      <th>1</th>\n",
       "      <td>2</td>\n",
       "      <td>9</td>\n",
       "      <td>9347</td>\n",
       "    </tr>\n",
       "    <tr>\n",
       "      <th>2</th>\n",
       "      <td>3</td>\n",
       "      <td>13</td>\n",
       "      <td>18077</td>\n",
       "    </tr>\n",
       "    <tr>\n",
       "      <th>3</th>\n",
       "      <td>4</td>\n",
       "      <td>22</td>\n",
       "      <td>25717</td>\n",
       "    </tr>\n",
       "    <tr>\n",
       "      <th>4</th>\n",
       "      <td>5</td>\n",
       "      <td>11</td>\n",
       "      <td>14913</td>\n",
       "    </tr>\n",
       "    <tr>\n",
       "      <th>...</th>\n",
       "      <td>...</td>\n",
       "      <td>...</td>\n",
       "      <td>...</td>\n",
       "    </tr>\n",
       "    <tr>\n",
       "      <th>95</th>\n",
       "      <td>96</td>\n",
       "      <td>9</td>\n",
       "      <td>12264</td>\n",
       "    </tr>\n",
       "    <tr>\n",
       "      <th>96</th>\n",
       "      <td>97</td>\n",
       "      <td>4</td>\n",
       "      <td>6088</td>\n",
       "    </tr>\n",
       "    <tr>\n",
       "      <th>97</th>\n",
       "      <td>98</td>\n",
       "      <td>7</td>\n",
       "      <td>8915</td>\n",
       "    </tr>\n",
       "    <tr>\n",
       "      <th>98</th>\n",
       "      <td>99</td>\n",
       "      <td>10</td>\n",
       "      <td>13181</td>\n",
       "    </tr>\n",
       "    <tr>\n",
       "      <th>99</th>\n",
       "      <td>100</td>\n",
       "      <td>12</td>\n",
       "      <td>20744</td>\n",
       "    </tr>\n",
       "  </tbody>\n",
       "</table>\n",
       "<p>100 rows × 3 columns</p>\n",
       "</div>"
      ],
      "text/plain": [
       "    customer_id  order_count  total_revenue\n",
       "0             1           18          27081\n",
       "1             2            9           9347\n",
       "2             3           13          18077\n",
       "3             4           22          25717\n",
       "4             5           11          14913\n",
       "..          ...          ...            ...\n",
       "95           96            9          12264\n",
       "96           97            4           6088\n",
       "97           98            7           8915\n",
       "98           99           10          13181\n",
       "99          100           12          20744\n",
       "\n",
       "[100 rows x 3 columns]"
      ]
     },
     "execution_count": 12,
     "metadata": {},
     "output_type": "execute_result"
    }
   ],
   "source": [
    "customer_orders = merged_data.groupby('customer_id').agg({'order_id': 'count', 'revenue': 'sum'}).reset_index()\n",
    "customer_orders.columns = ['customer_id', 'order_count', 'total_revenue']\n",
    "customer_orders"
   ]
  },
  {
   "cell_type": "code",
   "execution_count": 14,
   "id": "738dd7f3",
   "metadata": {},
   "outputs": [
    {
     "name": "stdout",
     "output_type": "stream",
     "text": [
      "Customer Segmentation:\n",
      "    customer_id  order_count  total_revenue          most_recent_order  \\\n",
      "0             1           18          27081 2023-09-17 08:39:23.971834   \n",
      "1             2            9           9347 2023-09-15 08:39:23.971834   \n",
      "2             3           13          18077 2023-09-13 08:39:23.971834   \n",
      "3             4           22          25717 2023-09-14 08:39:23.971834   \n",
      "4             5           11          14913 2023-09-09 08:39:23.971834   \n",
      "..          ...          ...            ...                        ...   \n",
      "95           96            9          12264 2023-09-15 08:39:23.971834   \n",
      "96           97            4           6088 2023-09-09 08:39:23.971834   \n",
      "97           98            7           8915 2023-09-11 08:39:23.971834   \n",
      "98           99           10          13181 2023-09-17 08:39:23.971834   \n",
      "99          100           12          20744 2023-09-06 08:39:23.971834   \n",
      "\n",
      "    recency order_count_segment revenue_segment  recency_segment  \n",
      "0       195           Very High       Very High      Very Recent  \n",
      "1       197              Medium             Low           Recent  \n",
      "2       199           Very High       Very High           Recent  \n",
      "3       198           Very High       Very High           Recent  \n",
      "4       203                High            High       Not Recent  \n",
      "..      ...                 ...             ...              ...  \n",
      "95      197              Medium          Medium           Recent  \n",
      "96      203                 Low             Low       Not Recent  \n",
      "97      201                 Low             Low       Not Recent  \n",
      "98      195              Medium            High      Very Recent  \n",
      "99      206                High       Very High  Very Not Recent  \n",
      "\n",
      "[100 rows x 8 columns]\n"
     ]
    }
   ],
   "source": [
    "# Customer segmentation based on order count, total revenue, and recency\n",
    "customer_orders = merged_data.groupby('customer_id').agg({\n",
    "    'order_id': 'count',\n",
    "    'revenue': 'sum',\n",
    "    'order_date': 'max'\n",
    "}).reset_index()\n",
    "\n",
    "customer_orders.columns = ['customer_id', 'order_count', 'total_revenue', 'most_recent_order']\n",
    "\n",
    "# Calculate recency (days since last order)\n",
    "import datetime\n",
    "now = datetime.datetime.now()\n",
    "customer_orders['recency'] = (now - customer_orders['most_recent_order']).dt.days\n",
    "\n",
    "# Segment customers based on order count, total revenue, and recency\n",
    "order_count_quartiles = customer_orders['order_count'].quantile([0.25, 0.5, 0.75])\n",
    "revenue_quartiles = customer_orders['total_revenue'].quantile([0.25, 0.5, 0.75])\n",
    "recency_quartiles = customer_orders['recency'].quantile([0.25, 0.5, 0.75])\n",
    "\n",
    "customer_orders['order_count_segment'] = pd.qcut(customer_orders['order_count'], 4, labels=['Low', 'Medium', 'High', 'Very High'])\n",
    "customer_orders['revenue_segment'] = pd.qcut(customer_orders['total_revenue'], 4, labels=['Low', 'Medium', 'High', 'Very High'])\n",
    "customer_orders['recency_segment'] = pd.qcut(customer_orders['recency'], 4, labels=['Very Recent', 'Recent', 'Not Recent', 'Very Not Recent'])\n",
    "\n",
    "print('Customer Segmentation:')\n",
    "print(customer_orders)"
   ]
  },
  {
   "cell_type": "code",
   "execution_count": null,
   "id": "5d3e2e40",
   "metadata": {},
   "outputs": [],
   "source": []
  }
 ],
 "metadata": {
  "kernelspec": {
   "display_name": "Python (tf-gpu)",
   "language": "python",
   "name": "tf-gpu"
  },
  "language_info": {
   "codemirror_mode": {
    "name": "ipython",
    "version": 3
   },
   "file_extension": ".py",
   "mimetype": "text/x-python",
   "name": "python",
   "nbconvert_exporter": "python",
   "pygments_lexer": "ipython3",
   "version": "3.9.16"
  }
 },
 "nbformat": 4,
 "nbformat_minor": 5
}
